{
  "nbformat": 4,
  "nbformat_minor": 0,
  "metadata": {
    "colab": {
      "name": "project106B",
      "provenance": [],
      "authorship_tag": "ABX9TyMgO4IlUkLUfSlf/0DF/8Ll",
      "include_colab_link": true
    },
    "kernelspec": {
      "name": "python3",
      "display_name": "Python 3"
    }
  },
  "cells": [
    {
      "cell_type": "markdown",
      "metadata": {
        "id": "view-in-github",
        "colab_type": "text"
      },
      "source": [
        "<a href=\"https://colab.research.google.com/github/kalravm41/project106/blob/main/project106B.ipynb\" target=\"_parent\"><img src=\"https://colab.research.google.com/assets/colab-badge.svg\" alt=\"Open In Colab\"/></a>"
      ]
    },
    {
      "cell_type": "code",
      "metadata": {
        "colab": {
          "base_uri": "https://localhost:8080/"
        },
        "id": "jDMdLt1B9Vo4",
        "outputId": "38f2a165-1c46-4a33-a7db-fed6ae1be5a9"
      },
      "source": [
        "import plotly.express as px\n",
        "import numpy as np\n",
        "import csv\n",
        "\n",
        "def getDataSource():\n",
        "  coffeeMl = []\n",
        "  sleepHour = []\n",
        "\n",
        "  with open(\"data1.csv\") as f:\n",
        "    reader = csv.DictReader(f)\n",
        "    for row in reader:\n",
        "      coffeeMl.append(float(row['Coffee in ml']))\n",
        "      sleepHour.append(float(row['sleep in hours']))\n",
        "  return{\"x\": coffeeMl, \"y\": sleepHour}  \n",
        "\n",
        "\n",
        "def findCorrelation(datasource):\n",
        "    correlation = np.corrcoef(datasource[\"x\"], datasource[\"y\"])\n",
        "    print(\"Co-relation between Temperature and Ice Cream Sale is: \" , correlation) \n",
        "\n",
        "def setup():\n",
        "    datasource= getDataSource()\n",
        "    findCorrelation(datasource) \n",
        "\n",
        "setup()           \n"
      ],
      "execution_count": null,
      "outputs": [
        {
          "output_type": "stream",
          "text": [
            "Co-relation between Temperature and Ice Cream Sale is:  [[ 1.         -0.96306147]\n",
            " [-0.96306147  1.        ]]\n"
          ],
          "name": "stdout"
        }
      ]
    }
  ]
}